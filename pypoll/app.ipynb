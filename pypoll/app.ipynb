{
 "cells": [
  {
   "cell_type": "code",
   "execution_count": 1,
   "metadata": {},
   "outputs": [],
   "source": [
    "import os\n",
    "import csv"
   ]
  },
  {
   "cell_type": "code",
   "execution_count": 12,
   "metadata": {},
   "outputs": [],
   "source": [
    "electiondata = os.path.join('assets', 'election_data.csv')\n",
    "\n",
    "#define variables\n",
    "total_votes = 0\n",
    "candidates = []\n",
    "candidate_vote = {}"
   ]
  },
  {
   "cell_type": "code",
   "execution_count": 15,
   "metadata": {},
   "outputs": [],
   "source": [
    "with open(electiondata, newline=\"\", encoding=\"UTF-8\") as csv_file:\n",
    "    csv_reader = csv.DictReader(csv_file, delimiter=\",\")\n",
    "    #define dictionary of candidates:\n",
    "    for row in csv_reader:\n",
    "        #find total vote\n",
    "        total_votes += 1\n",
    "        #create candidate list; if candidate exist + 1 vote, \n",
    "        #if candidate do not exist, append to the list\n",
    "        if row[\"Candidate\"] not in candidates:\n",
    "            #add candidate to the list\n",
    "            candidates.append(row[\"Candidate\"])\n",
    "            #new candidate earn first vote\n",
    "            candidate_vote[row[\"Candidate\"]] = 1\n",
    "        else:\n",
    "            #existing candidate vote addition\n",
    "            candidate_vote[row[\"Candidate\"]] += 1"
   ]
  },
  {
   "cell_type": "code",
   "execution_count": 16,
   "metadata": {},
   "outputs": [],
   "source": [
    "sorted_candidates = [k for k in sorted(candidate_vote, key=candidate_vote.get, reverse=True)]\n",
    "#find the winner\n",
    "winner = sorted_candidates[0]"
   ]
  },
  {
   "cell_type": "code",
   "execution_count": 17,
   "metadata": {},
   "outputs": [
    {
     "name": "stdout",
     "output_type": "stream",
     "text": [
      "\n",
      "Election Results\n",
      "-------------------------\n",
      "Total Votes: 3521003\n",
      "-------------------------\n",
      "Khan: 63.0% (2218231)\n",
      "Correy: 20.0% (704200)\n",
      "Li: 14.0% (492940)\n",
      "O'Tooley: 3.0% (105630)\n",
      "-------------------------\n",
      "Winner: Khan\n",
      "-------------------------\n"
     ]
    }
   ],
   "source": [
    "print(\"\\nElection Results\")\n",
    "print(\"-------------------------\")\n",
    "print(f\"Total Votes: {total_votes}\")\n",
    "print(\"-------------------------\")\n",
    "for candidate_name,vote_count in candidate_vote.items():\n",
    "    print(candidate_name + \": \" + str(round(vote_count / total_votes * 100, 4)) + \"% (\" + str(vote_count) + \")\")\n",
    "print(\"-------------------------\")\n",
    "print(f\"Winner: {winner}\")\n",
    "print(\"-------------------------\")"
   ]
  },
  {
   "cell_type": "code",
   "execution_count": 19,
   "metadata": {},
   "outputs": [],
   "source": [
    "# output_path = \"/output/pypoll-output.csv\"\n",
    "output_path = os.path.join(\"output\", \"pypoll-output.csv\")\n",
    "with open(output_path, \"w\") as csv_file:\n",
    "    print(\"Election Results\", file = csv_file)\n",
    "    print(\"-------------------------\", file = csv_file)\n",
    "    print(f\"Total Votes: {total_votes}\", file = csv_file)\n",
    "    print(\"-------------------------\", file = csv_file)\n",
    "    for candidate_name,vote_count in candidate_vote.items():\n",
    "        print(candidate_name + \": \" + str(round(vote_count / total_votes * 100, 4)) + \"% (\" + str(vote_count) + \")\", file = csv_file)\n",
    "    print(\"-------------------------\", file = csv_file)\n",
    "    print(f\"Winner: {winner}\", file = csv_file)\n",
    "    print(\"-------------------------\", file = csv_file)"
   ]
  },
  {
   "cell_type": "code",
   "execution_count": null,
   "metadata": {},
   "outputs": [],
   "source": []
  }
 ],
 "metadata": {
  "kernelspec": {
   "display_name": "Python 3",
   "language": "python",
   "name": "python3"
  },
  "language_info": {
   "codemirror_mode": {
    "name": "ipython",
    "version": 3
   },
   "file_extension": ".py",
   "mimetype": "text/x-python",
   "name": "python",
   "nbconvert_exporter": "python",
   "pygments_lexer": "ipython3",
   "version": "3.7.4"
  }
 },
 "nbformat": 4,
 "nbformat_minor": 2
}
