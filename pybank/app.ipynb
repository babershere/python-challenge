{
 "cells": [
  {
   "cell_type": "code",
   "execution_count": 27,
   "metadata": {},
   "outputs": [],
   "source": [
    "#import libraries \n",
    "import os\n",
    "import csv"
   ]
  },
  {
   "cell_type": "code",
   "execution_count": 28,
   "metadata": {},
   "outputs": [],
   "source": [
    "#path the csv\n",
    "csvpath = os.path.join(\"assets\", \"budget_data.csv\")\n",
    "newcsvpath = \"assets/budget_data.csv\""
   ]
  },
  {
   "cell_type": "code",
   "execution_count": 29,
   "metadata": {},
   "outputs": [],
   "source": [
    "#define variables\n",
    "total_months = 0\n",
    "total_revenue = 0\n",
    "revenue_change_list = []\n",
    "prev_month_revenue = 0\n",
    "greatest_increase_month = \"\"\n",
    "greatest_decrease_month = \"\"\n",
    "greatest_increase_revenue = 0\n",
    "greatest_decrease_revenue = 0"
   ]
  },
  {
   "cell_type": "code",
   "execution_count": 30,
   "metadata": {},
   "outputs": [],
   "source": [
    "#make csv file an iteratable object, use dictionary type of reader\n",
    "with open(csvpath, newline=\"\", encoding=\"UTF-8\") as csvfile:\n",
    "    csv_reader = csv.DictReader(csvfile, delimiter=\",\")\n",
    "    \n",
    "    #looping\n",
    "    for row in csv_reader:\n",
    "        #find total months\n",
    "        total_months += 1\n",
    "        #find total revenue\n",
    "        total_revenue = total_revenue + int(row[\"Profit/Losses\"])\n",
    "        #find revenue change for each month using if statement\n",
    "        revenue_change = int(row[\"Profit/Losses\"]) - prev_month_revenue\n",
    "        if total_months > 1:\n",
    "            revenue_change_list.append(revenue_change)\n",
    "        \n",
    "        #pre_month_revenue need to be the new value, not 0\n",
    "        prev_month_revenue = int(row[\"Profit/Losses\"])\n",
    "\n",
    "        #find greatest revenue_change increase\n",
    "        if revenue_change > greatest_increase_revenue:\n",
    "            greatest_increase_revenue = revenue_change\n",
    "            #find greatest increase month\n",
    "            greatest_increase_month = row[\"Date\"]\n",
    "        #find greatest revenue_change decrease\n",
    "        if revenue_change < greatest_decrease_revenue:\n",
    "            greatest_decrease_revenue = revenue_change\n",
    "            #find greatest decrease month\n",
    "            greatest_decrease_month = row[\"Date\"]\n",
    "\n",
    "#find the FINAL revenue change average, sum / length\n",
    "revenue_average = round(sum(revenue_change_list) / len(revenue_change_list), 2)"
   ]
  },
  {
   "cell_type": "code",
   "execution_count": 31,
   "metadata": {},
   "outputs": [
    {
     "name": "stdout",
     "output_type": "stream",
     "text": [
      "\n",
      "Financial Analysis\n",
      "-------------------\n",
      "Total Months: 86\n",
      "Total: $38382578\n",
      "Average Change: $-2315.12\n",
      "Greatest Increase in Profits: Feb-2012 ($1926159)\n",
      "Greatest Decrease in Profits: Sep-2013 ($-2196167)\n"
     ]
    }
   ],
   "source": [
    "#define output format\n",
    "print(\"\\nFinancial Analysis\") \n",
    "print(\"-------------------\")\n",
    "print(f\"Total Months: {total_months}\")\n",
    "print(f\"Total: ${total_revenue}\")\n",
    "print(f\"Average Change: ${revenue_average}\")\n",
    "print(f\"Greatest Increase in Profits: {greatest_increase_month} (${greatest_increase_revenue})\")\n",
    "print(f\"Greatest Decrease in Profits: {greatest_decrease_month} (${greatest_decrease_revenue})\")"
   ]
  },
  {
   "cell_type": "code",
   "execution_count": 32,
   "metadata": {},
   "outputs": [],
   "source": [
    "#export a csv.file\n",
    "# output_path = \"../output/pybank-output.txt\"\n",
    "output_path = os.path.join(\"output\", \"pybank-output.csv\")\n",
    "\n",
    "with open(output_path, \"w\", newline='') as csv_file:\n",
    "    print(\"\\nFinancial Analysis\", file = csv_file) \n",
    "    print(\"-------------------\", file = csv_file)\n",
    "    print(f\"Total Months: {total_months}\", file = csv_file)\n",
    "    print(f\"Total: ${total_revenue}\", file = csv_file)\n",
    "    print(f\"Average Change: ${revenue_average}\", file = csv_file)\n",
    "    print(f\"Greatest Increase in Profits: {greatest_increase_month} (${greatest_increase_revenue})\", file = csv_file)\n",
    "    print(f\"Greatest Decrease in Profits: {greatest_decrease_month} (${greatest_decrease_revenue})\", file = csv_file)"
   ]
  },
  {
   "cell_type": "code",
   "execution_count": null,
   "metadata": {},
   "outputs": [],
   "source": []
  }
 ],
 "metadata": {
  "kernelspec": {
   "display_name": "Python 3",
   "language": "python",
   "name": "python3"
  },
  "language_info": {
   "codemirror_mode": {
    "name": "ipython",
    "version": 3
   },
   "file_extension": ".py",
   "mimetype": "text/x-python",
   "name": "python",
   "nbconvert_exporter": "python",
   "pygments_lexer": "ipython3",
   "version": "3.7.4"
  }
 },
 "nbformat": 4,
 "nbformat_minor": 2
}
